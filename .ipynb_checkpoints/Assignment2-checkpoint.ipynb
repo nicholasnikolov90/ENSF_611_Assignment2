{
 "cells": [
  {
   "cell_type": "code",
   "execution_count": 53,
   "id": "f3d5dbca-7c44-4fff-ae75-000daa137e4a",
   "metadata": {},
   "outputs": [],
   "source": [
    "# Assignment 2: Linear Models and Validation Metrics (30 marks total)\n",
    "### Due: October 10 at 11:59pm\n",
    "\n",
    "### Name: Nick Nikolov"
   ]
  },
  {
   "cell_type": "markdown",
   "id": "ce31b39a",
   "metadata": {},
   "source": [
    "### In this assignment, you will need to write code that uses linear models to perform classification and regression tasks. You will also be asked to describe the process by which you came up with the code. More details can be found below. Please cite any websites or AI tools that you used to help you with this assignment."
   ]
  },
  {
   "cell_type": "markdown",
   "id": "f7c6de86",
   "metadata": {},
   "source": [
    "## Part 1: Classification (14.5 marks total)\n",
    "\n",
    "You have been asked to develop code that can help the user determine if the email they have received is spam or not. Following the machine learning workflow described in class, write the relevant code in each of the steps below:"
   ]
  },
  {
   "cell_type": "markdown",
   "id": "7e3c6fc8",
   "metadata": {},
   "source": [
    "### Step 0: Import Libraries"
   ]
  },
  {
   "cell_type": "code",
   "execution_count": 54,
   "id": "33f86925",
   "metadata": {},
   "outputs": [],
   "source": [
    "import numpy as np\n",
    "import pandas as pd\n"
   ]
  },
  {
   "cell_type": "markdown",
   "id": "5f9d33a8",
   "metadata": {},
   "source": [
    "### Step 1: Data Input (1 mark)\n",
    "\n",
    "The data used for this task can be downloaded using the yellowbrick library: \n",
    "https://www.scikit-yb.org/en/latest/api/datasets/spam.html\n",
    "\n",
    "Use the yellowbrick function `load_spam()` to load the spam dataset into the feature matrix `X` and target vector `y`.\n",
    "\n",
    "Print the size and type of `X` and `y`."
   ]
  },
  {
   "cell_type": "code",
   "execution_count": 55,
   "id": "33583c67",
   "metadata": {},
   "outputs": [
    {
     "name": "stdout",
     "output_type": "stream",
     "text": [
      "(4600, 57)\n",
      "word_freq_make                float64\n",
      "word_freq_address             float64\n",
      "word_freq_all                 float64\n",
      "word_freq_3d                  float64\n",
      "word_freq_our                 float64\n",
      "word_freq_over                float64\n",
      "word_freq_remove              float64\n",
      "word_freq_internet            float64\n",
      "word_freq_order               float64\n",
      "word_freq_mail                float64\n",
      "word_freq_receive             float64\n",
      "word_freq_will                float64\n",
      "word_freq_people              float64\n",
      "word_freq_report              float64\n",
      "word_freq_addresses           float64\n",
      "word_freq_free                float64\n",
      "word_freq_business            float64\n",
      "word_freq_email               float64\n",
      "word_freq_you                 float64\n",
      "word_freq_credit              float64\n",
      "word_freq_your                float64\n",
      "word_freq_font                float64\n",
      "word_freq_000                 float64\n",
      "word_freq_money               float64\n",
      "word_freq_hp                  float64\n",
      "word_freq_hpl                 float64\n",
      "word_freq_george              float64\n",
      "word_freq_650                 float64\n",
      "word_freq_lab                 float64\n",
      "word_freq_labs                float64\n",
      "word_freq_telnet              float64\n",
      "word_freq_857                 float64\n",
      "word_freq_data                float64\n",
      "word_freq_415                 float64\n",
      "word_freq_85                  float64\n",
      "word_freq_technology          float64\n",
      "word_freq_1999                float64\n",
      "word_freq_parts               float64\n",
      "word_freq_pm                  float64\n",
      "word_freq_direct              float64\n",
      "word_freq_cs                  float64\n",
      "word_freq_meeting             float64\n",
      "word_freq_original            float64\n",
      "word_freq_project             float64\n",
      "word_freq_re                  float64\n",
      "word_freq_edu                 float64\n",
      "word_freq_table               float64\n",
      "word_freq_conference          float64\n",
      "char_freq_;                   float64\n",
      "char_freq_(                   float64\n",
      "char_freq_[                   float64\n",
      "char_freq_!                   float64\n",
      "char_freq_$                   float64\n",
      "char_freq_#                   float64\n",
      "capital_run_length_average    float64\n",
      "capital_run_length_longest      int64\n",
      "capital_run_length_total        int64\n",
      "dtype: object\n",
      "(4600,)\n",
      "int64\n"
     ]
    }
   ],
   "source": [
    "# TO DO: Import spam dataset from yellowbrick library\n",
    "from yellowbrick.datasets import load_spam\n",
    "# TO DO: Print size and type of X and y\n",
    "X, y = load_spam()\n",
    "\n",
    "print(X.shape)\n",
    "print(X.dtypes)\n",
    "print(y.shape)\n",
    "print(y.dtypes)"
   ]
  },
  {
   "cell_type": "markdown",
   "id": "156db208",
   "metadata": {},
   "source": [
    "### Step 2: Data Processing (1.5 marks)\n",
    "\n",
    "Check to see if there are any missing values in the dataset. If necessary, select an appropriate method to fill-in the missing values."
   ]
  },
  {
   "cell_type": "code",
   "execution_count": 56,
   "id": "4e7204f5",
   "metadata": {},
   "outputs": [
    {
     "name": "stdout",
     "output_type": "stream",
     "text": [
      "word_freq_make                0\n",
      "word_freq_labs                0\n",
      "word_freq_857                 0\n",
      "word_freq_data                0\n",
      "word_freq_415                 0\n",
      "word_freq_85                  0\n",
      "word_freq_technology          0\n",
      "word_freq_1999                0\n",
      "word_freq_parts               0\n",
      "word_freq_pm                  0\n",
      "word_freq_direct              0\n",
      "word_freq_cs                  0\n",
      "word_freq_meeting             0\n",
      "word_freq_original            0\n",
      "word_freq_project             0\n",
      "word_freq_re                  0\n",
      "word_freq_edu                 0\n",
      "word_freq_table               0\n",
      "word_freq_conference          0\n",
      "char_freq_;                   0\n",
      "char_freq_(                   0\n",
      "char_freq_[                   0\n",
      "char_freq_!                   0\n",
      "char_freq_$                   0\n",
      "char_freq_#                   0\n",
      "capital_run_length_average    0\n",
      "capital_run_length_longest    0\n",
      "word_freq_telnet              0\n",
      "word_freq_lab                 0\n",
      "word_freq_address             0\n",
      "word_freq_650                 0\n",
      "word_freq_all                 0\n",
      "word_freq_3d                  0\n",
      "word_freq_our                 0\n",
      "word_freq_over                0\n",
      "word_freq_remove              0\n",
      "word_freq_internet            0\n",
      "word_freq_order               0\n",
      "word_freq_mail                0\n",
      "word_freq_receive             0\n",
      "word_freq_will                0\n",
      "word_freq_people              0\n",
      "word_freq_report              0\n",
      "word_freq_addresses           0\n",
      "word_freq_free                0\n",
      "word_freq_business            0\n",
      "word_freq_email               0\n",
      "word_freq_you                 0\n",
      "word_freq_credit              0\n",
      "word_freq_your                0\n",
      "word_freq_font                0\n",
      "word_freq_000                 0\n",
      "word_freq_money               0\n",
      "word_freq_hp                  0\n",
      "word_freq_hpl                 0\n",
      "word_freq_george              0\n",
      "capital_run_length_total      0\n",
      "dtype: int64\n",
      "0\n"
     ]
    }
   ],
   "source": [
    "# TO DO: Check if there are any missing values and fill them in if necessary\n",
    "nulls = X.isnull().sum().sort_values(ascending=False)\n",
    "print(nulls)\n",
    "\n",
    "nulls = y.isnull().sum()\n",
    "print(nulls)"
   ]
  },
  {
   "cell_type": "markdown",
   "id": "a489285a",
   "metadata": {},
   "source": [
    "For this task, we want to test if the linear model would still work if we used less data. Use the `train_test_split` function from sklearn to create a new feature matrix named `X_small` and a new target vector named `y_small` that contain **5%** of the data."
   ]
  },
  {
   "cell_type": "code",
   "execution_count": 57,
   "id": "f9bc4a23",
   "metadata": {},
   "outputs": [],
   "source": [
    "# TO DO: Create X_small and y_small \n",
    "from sklearn.model_selection import train_test_split\n",
    "\n",
    "_, X_small, _, y_small = train_test_split(X, y, test_size=0.05, random_state=0)\n",
    "\n",
    "Xsmall_train, Xsmall_test, ysmall_train, ysmall_test = train_test_split(X_small, y_small, test_size=0.2, random_state=0)\n",
    "X2_train, X2_test, y2_train, y2_test = train_test_split(X[['word_freq_make', 'word_freq_address']], y, test_size=0.2, random_state=0)\n",
    "X_train, X_test, y_train, y_test = train_test_split(X, y, test_size=0.2, random_state=0)"
   ]
  },
  {
   "cell_type": "markdown",
   "id": "090ee8a3-2d05-4edf-ba84-4a9879c1cd7c",
   "metadata": {
    "tags": []
   },
   "source": [
    "### Step 3: Implement Machine Learning Model\n",
    "1. Import `LogisticRegression` from sklearn\n",
    "2. Instantiate model `LogisticRegression(max_iter=2000)`.\n",
    "3. Implement the machine learning model with three different datasets: \n",
    "    - `X` and `y`\n",
    "    - Only first two columns of `X` and `y`\n",
    "    - `X_small` and `y_small`"
   ]
  },
  {
   "cell_type": "code",
   "execution_count": 58,
   "id": "04cca553-3aa8-4d29-9d1e-41b40b3a0d50",
   "metadata": {},
   "outputs": [],
   "source": [
    "from sklearn.linear_model import LogisticRegression\n",
    "from sklearn.metrics import mean_absolute_error, mean_squared_error\n",
    "\n",
    "#Using full X and y dataset\n",
    "full_data = LogisticRegression(max_iter=2000)\n",
    "full_data.fit(X_train, y_train)\n",
    "full_predictions = full_data.predict(X_test)\n",
    "\n",
    "#Using only 5% of the data\n",
    "small_data = LogisticRegression(max_iter=2000)\n",
    "small_data.fit(Xsmall_train, ysmall_train)\n",
    "small_predictions = small_data.predict(Xsmall_test)\n",
    "\n",
    "#Using the first two columns of X and y\n",
    "first2 = LogisticRegression(max_iter=2000)\n",
    "first2.fit(X2_train, y2_train)\n",
    "first2_predictions = first2.predict(X2_test)"
   ]
  },
  {
   "cell_type": "markdown",
   "id": "b89f3d84",
   "metadata": {},
   "source": [
    "### Step 4: Validate Model\n",
    "\n",
    "Calculate the training and validation accuracy for the three different tests implemented in Step 3"
   ]
  },
  {
   "cell_type": "markdown",
   "id": "352106a3",
   "metadata": {},
   "source": [
    "### Step 5: Visualize Results (4 marks)\n",
    "\n",
    "1. Create a pandas DataFrame `results` with columns: Data size, training accuracy, validation accuracy\n",
    "2. Add the data size, training and validation accuracy for each dataset to the `results` DataFrame\n",
    "3. Print `results`"
   ]
  },
  {
   "cell_type": "code",
   "execution_count": 163,
   "id": "be4b5c0a",
   "metadata": {},
   "outputs": [
    {
     "name": "stdout",
     "output_type": "stream",
     "text": [
      "   Data Size  Training Accuracy  Validation Accuracy\n",
      "0   262200.0           0.927785             0.922011\n",
      "1    13110.0           0.956527             0.902102\n",
      "2     1840.0           0.615693             0.614402\n"
     ]
    }
   ],
   "source": [
    "# TO DO: ADD YOUR CODE HERE FOR STEPS 3-5\n",
    "results = pd.DataFrame(columns=['Data Size', 'Training Accuracy', 'Validation Accuracy'])\n",
    "\n",
    "from sklearn.model_selection import cross_validate\n",
    "scores_full = cross_validate(full_data, X_train, y_train, cv=5, scoring='accuracy', return_train_score=True)\n",
    "row = [X.size]\n",
    "\n",
    "for label_pair in [ ('train_score', 'train_score'), ('test_score', 'validation_score')]:\n",
    "    row.append(scores_full[label_pair[0]].mean())\n",
    "\n",
    "results.loc[len(results.index)] = row\n",
    "    \n",
    "    \n",
    "scores_small = cross_validate(small_data, Xsmall_train, ysmall_train, cv=5, scoring='accuracy', return_train_score=True)\n",
    "row = [X_small.size]\n",
    "    \n",
    "for label_pair in [ ('train_score', 'train_score'), ('test_score', 'validation_score')]:\n",
    "    row.append(scores_small[label_pair[0]].mean())\n",
    "results.loc[len(results.index)] = row\n",
    "\n",
    "    \n",
    "scores_first2 = cross_validate(first2, X2_train, y2_train, cv=5, scoring='accuracy', return_train_score=True)\n",
    "row = [X2_test.size]\n",
    "    \n",
    "for label_pair in [ ('train_score', 'train_score'), ('test_score', 'validation_score')]:\n",
    "    row.append(scores_first2[label_pair[0]].mean())\n",
    "results.loc[len(results.index)] = row\n",
    "\n",
    "print(results)\n",
    "\n",
    "# Note: for any random state parameters, you can use random_state = 0\n",
    "# HINT: USING A LOOP TO STORE THE DATA IN YOUR RESULTS DATAFRAME WILL BE MORE EFFICIENT"
   ]
  },
  {
   "cell_type": "raw",
   "id": "d2ac5cad-73d7-42a7-bdda-68b11777ad7d",
   "metadata": {
    "tags": []
   },
   "source": [
    "### Questions (4 marks)\n",
    "1. How do the training and validation accuracy change depending on the amount of data used? Explain with values.\n",
    "2. In this case, what do a false positive and a false negative represent? Which one is worse?\n",
    "\n",
    "*YOUR ANSWERS HERE*\n",
    "1. Using only 5% of the data produced basically the same results in terms of training and validation accuracy. The training accuracy was only 3% lower, while the validation accuraacy was 2% higher. This means using the entire dataset caused an overfitting of the model on the training data, and it did not score as high on the testing. Lowering the size of the dataset improved the validation accuracy. If the dataset is very large, we can save a lot of computation time by only using a small % of the data for training and testing. \n",
    "\n",
    "2. The dataset is used to represent a sample of emails and is used to detect spam emails to filter out. A false positive would represent marking non-spam email as spam. A false negative is allowing a spam email into the inbox. I think which being worse is debatable. If a spam email is accidentally placed into the inbox, if it is an effective phishing email it might cause a lot of damage to the receptient. However, if I receive a job offer and it accidentally gets marked as spam then I may never see it! Personally, I would prefer more false negatives since I trust myself to filter out phishing emails myself. But if I was able to setup my parents email spam filter, I would be as restrictive as possible to make sure they does not get phished."
   ]
  },
  {
   "cell_type": "markdown",
   "id": "7559517a",
   "metadata": {},
   "source": [
    "### Process Description (4 marks)\n",
    "Please describe the process you used to create your code. Cite any websites or generative AI tools used. You can use the following questions as guidance:\n",
    "1. Where did you source your code?\n",
    "1. In what order did you complete the steps?\n",
    "1. If you used generative AI, what prompts did you use? Did you need to modify the code at all? Why or why not?\n",
    "1. Did you have any challenges? If yes, what were they? If not, what helped you to be successful?"
   ]
  },
  {
   "cell_type": "markdown",
   "id": "59fe687f",
   "metadata": {},
   "source": [
    "*DESCRIBE YOUR PROCESS HERE*"
   ]
  },
  {
   "cell_type": "markdown",
   "id": "d0cd0728-495a-4c6e-a14a-4c3217c37608",
   "metadata": {},
   "source": [
    "1. I used the sci-kit-learn documentation website to learn about the regression function parameters. I also used lecture & lab slides created by Dr. Dawson.\n",
    "\n",
    "2. I completed all steps in numerical order.\n",
    "\n",
    "3. Any time I was stuck on a compilation error I pasted the error message into ChatGPT. If it provided an easy fix, I modified my code accordingly and retested. My prompt was always identical to the error message I received. \n",
    "\n",
    "4. Yes I had some challenges with setting up the training and testing data sets. The assignment indicates we need to split the dataset into a smaller dataset containing 5% of the original data. However, there was no further guidance on what data to use for the training / testing of each model. Should we have used 5% of the dataset to train / test all models or only the model that specified 5%?"
   ]
  },
  {
   "cell_type": "markdown",
   "id": "fb4c78a8",
   "metadata": {},
   "source": [
    "## Part 2: Regression (10.5 marks total)\n",
    "\n",
    "For this section, we will be evaluating concrete compressive strength of different concrete samples, based on age and ingredients. You will need to repeat the steps 1-4 from Part 1 for this analysis."
   ]
  },
  {
   "cell_type": "markdown",
   "id": "b2ba83c5",
   "metadata": {},
   "source": [
    "### Step 1: Data Input (1 mark)\n",
    "\n",
    "The data used for this task can be downloaded using the yellowbrick library: \n",
    "https://www.scikit-yb.org/en/latest/api/datasets/concrete.html\n",
    "\n",
    "Use the yellowbrick function `load_concrete()` to load the spam dataset into the feature matrix `X` and target vector `y`.\n",
    "\n",
    "Print the size and type of `X` and `y`."
   ]
  },
  {
   "cell_type": "code",
   "execution_count": 131,
   "id": "6ff2e34f",
   "metadata": {},
   "outputs": [
    {
     "name": "stdout",
     "output_type": "stream",
     "text": [
      "      cement   slag    ash  water  splast  coarse   fine  age\n",
      "0      540.0    0.0    0.0  162.0     2.5  1040.0  676.0   28\n",
      "1      540.0    0.0    0.0  162.0     2.5  1055.0  676.0   28\n",
      "2      332.5  142.5    0.0  228.0     0.0   932.0  594.0  270\n",
      "3      332.5  142.5    0.0  228.0     0.0   932.0  594.0  365\n",
      "4      198.6  132.4    0.0  192.0     0.0   978.4  825.5  360\n",
      "...      ...    ...    ...    ...     ...     ...    ...  ...\n",
      "1025   276.4  116.0   90.3  179.6     8.9   870.1  768.3   28\n",
      "1026   322.2    0.0  115.6  196.0    10.4   817.9  813.4   28\n",
      "1027   148.5  139.4  108.6  192.7     6.1   892.4  780.0   28\n",
      "1028   159.1  186.7    0.0  175.6    11.3   989.6  788.9   28\n",
      "1029   260.9  100.5   78.3  200.6     8.6   864.5  761.5   28\n",
      "\n",
      "[1030 rows x 8 columns]\n",
      "8240\n",
      "cement    float64\n",
      "slag      float64\n",
      "ash       float64\n",
      "water     float64\n",
      "splast    float64\n",
      "coarse    float64\n",
      "fine      float64\n",
      "age         int64\n",
      "dtype: object\n",
      "1030\n",
      "float64\n"
     ]
    }
   ],
   "source": [
    "# TO DO: Import spam dataset from yellowbrick library\n",
    "# TO DO: Print size and type of X and y\n",
    "\n",
    "from yellowbrick.datasets import load_concrete\n",
    "# TO DO: Print size and type of X and y\n",
    "Xc, yc = load_concrete()\n",
    "\n",
    "print(Xc)\n",
    "print(Xc.size)\n",
    "print(Xc.dtypes)\n",
    "print(yc.size)\n",
    "print(yc.dtypes)"
   ]
  },
  {
   "cell_type": "markdown",
   "id": "c5294cfa",
   "metadata": {},
   "source": [
    "### Step 2: Data Processing (0.5 marks)\n",
    "\n",
    "Check to see if there are any missing values in the dataset. If necessary, select an appropriate method to fill-in the missing values."
   ]
  },
  {
   "cell_type": "code",
   "execution_count": 61,
   "id": "693c5fa3",
   "metadata": {},
   "outputs": [
    {
     "name": "stdout",
     "output_type": "stream",
     "text": [
      "cement    0\n",
      "slag      0\n",
      "ash       0\n",
      "water     0\n",
      "splast    0\n",
      "coarse    0\n",
      "fine      0\n",
      "age       0\n",
      "dtype: int64\n",
      "0\n"
     ]
    }
   ],
   "source": [
    "# TO DO: Check if there are any missing values and fill them in if necessary\n",
    "nulls = Xc.isnull().sum().sort_values(ascending=False)\n",
    "print(nulls)\n",
    "\n",
    "nulls = yc.isnull().sum()\n",
    "print(nulls)"
   ]
  },
  {
   "cell_type": "markdown",
   "id": "1bc60489",
   "metadata": {},
   "source": [
    "### Step 3: Implement Machine Learning Model (1 mark)\n",
    "\n",
    "1. Import `LinearRegression` from sklearn\n",
    "2. Instantiate model `LogisticRegression(max_iter=2000)`.\n",
    "3. Implement the machine learning model with `X` and `y`"
   ]
  },
  {
   "cell_type": "code",
   "execution_count": 88,
   "id": "b5041945",
   "metadata": {},
   "outputs": [],
   "source": [
    "# TO DO: ADD YOUR CODE HERE\n",
    "from sklearn.linear_model import LinearRegression\n",
    "from sklearn.metrics import mean_absolute_error, mean_squared_error\n",
    "from sklearn.model_selection import train_test_split\n",
    "\n",
    "Xc_train, Xc_test, yc_train, yc_test = train_test_split(Xc, yc, test_size=0.2, random_state=0)\n",
    "\n",
    "\n",
    "#Using full X and y dataset\n",
    "linear_modelc = LinearRegression()\n",
    "linear_modelc.fit(Xc_train, yc_train)\n",
    "linear_predictionsc = linear_modelc.predict(Xc_test)\n",
    "training_linear_predictionsc = linear_modelc.predict(Xc_train)\n",
    "# Note: for any random state parameters, you can use random_state = 0"
   ]
  },
  {
   "cell_type": "markdown",
   "id": "1de28482",
   "metadata": {},
   "source": [
    "### Step 4: Validate Model (1 mark)\n",
    "\n",
    "Calculate the training and validation accuracy using mean squared error and R2 score."
   ]
  },
  {
   "cell_type": "code",
   "execution_count": 73,
   "id": "970c038b",
   "metadata": {},
   "outputs": [
    {
     "name": "stdout",
     "output_type": "stream",
     "text": [
      "Linear Regression scores:\n",
      "R2 Error: 0.6368981103411244\n",
      "Mean Squared Error: 95.63533482690424\n"
     ]
    }
   ],
   "source": [
    "# TO DO: ADD YOUR CODE HERE\n",
    "from sklearn.metrics import r2_score, mean_squared_error\n",
    "\n",
    "linearC_R2 = r2_score(yc_test, linear_predictionsc)\n",
    "linearC_mse = mean_squared_error(yc_test, linear_predictionsc)\n",
    "\n",
    "print(\"Linear Regression scores:\")\n",
    "print(f\"R2 Error: {linearC_R2}\")\n",
    "print(f\"Mean Squared Error: {linearC_mse}\")"
   ]
  },
  {
   "cell_type": "markdown",
   "id": "54aa7795",
   "metadata": {},
   "source": [
    "### Step 5: Visualize Results (1 mark)\n",
    "1. Create a pandas DataFrame `results` with columns: Training accuracy and Validation accuracy, and index: MSE and R2 score\n",
    "2. Add the accuracy results to the `results` DataFrame\n",
    "3. Print `results`"
   ]
  },
  {
   "cell_type": "code",
   "execution_count": 119,
   "id": "88d223f3",
   "metadata": {},
   "outputs": [
    {
     "name": "stdout",
     "output_type": "stream",
     "text": [
      "[{'MSE': 110.34550122934108, 'R2': 0.6090710418548884}, {'MSE': 95.63533482690424, 'R2': 0.6368981103411244}]\n",
      "                                           Training Accuracy  \\\n",
      "[MSE, R2]                                                      \n",
      "0          {'MSE': 110.34550122934108, 'R2': 0.6090710418...   \n",
      "\n",
      "                                         Validation Accuracy  \n",
      "[MSE, R2]                                                     \n",
      "0          {'MSE': 95.63533482690424, 'R2': 0.63689811034...  \n"
     ]
    }
   ],
   "source": [
    "# TO DO: ADD YOUR CODE HERE\n",
    "\n",
    "resultsC = pd.DataFrame(columns=['Training Accuracy', 'Validation Accuracy', 'MSE', 'R2'])\n",
    "resultsC.set_index(['MSE', 'R2'], inplace=True)\n",
    "\n",
    "validation_linearC_R2 = r2_score(yc_test, linear_predictionsc)\n",
    "validation_linearC_mse = mean_squared_error(yc_test, linear_predictionsc)\n",
    "\n",
    "validation_accuracy = {\n",
    "    'MSE': validation_linearC_mse, \n",
    "    'R2': validation_linearC_R2\n",
    "}\n",
    "\n",
    "training_linearC_R2 = r2_score(yc_train, training_linear_predictionsc)\n",
    "training_linearC_mse = mean_squared_error(yc_train, training_linear_predictionsc)\n",
    "\n",
    "training_accuracy = {\n",
    "    'MSE': training_linearC_mse, \n",
    "    'R2': training_linearC_R2\n",
    "}\n",
    "\n",
    "#row = [training_accuracy, validation_accuracy}\n",
    "\n",
    "print(row)\n",
    "\n",
    "resultsC.loc[len(resultsC.index)] = row\n",
    "\n",
    "\n",
    "print(resultsC)"
   ]
  },
  {
   "cell_type": "markdown",
   "id": "70a42bda",
   "metadata": {},
   "source": [
    "### Questions (2 marks)\n",
    "1. Did using a linear model produce good results for this dataset? Why or why not?"
   ]
  },
  {
   "cell_type": "markdown",
   "id": "ea081377-9ac4-47dd-b7bd-18f59a076a5d",
   "metadata": {},
   "source": [
    "Using a linear model did not produce good results on this dataset. The R2 value is roughly 60%. This makes sense because thinking from first principles we know that the compressive strength of a material is non-linear. We linear regression is underfitting the data, as shown by the R2 score."
   ]
  },
  {
   "cell_type": "markdown",
   "id": "2ca0ff2f",
   "metadata": {},
   "source": [
    "### Process Description (4 marks)\n",
    "Please describe the process you used to create your code. Cite any websites or generative AI tools used. You can use the following questions as guidance:\n",
    "1. Where did you source your code?\n",
    "1. In what order did you complete the steps?\n",
    "1. If you used generative AI, what prompts did you use? Did you need to modify the code at all? Why or why not?\n",
    "1. Did you have any challenges? If yes, what were they? If not, what helped you to be successful?"
   ]
  },
  {
   "cell_type": "markdown",
   "id": "89e43750-8d2d-4131-9217-81c187314dce",
   "metadata": {},
   "source": [
    "1. I used the sci-kit-learn documentation for learning about function parameters. I sourced most of my code from Dr. Dawson labs, lecture slides, and examples. \n",
    "2. I completed all steps in numerical order. \n",
    "3. I used ChatGPT when stuck on an unclear error message. My prompts were pasting the error message, and asking what could be causing this error. One example of ChatGPT helping me was when trying to figure out why I couldn't use a logistic regression on the concrete data. turns out I was supposed to used a linear regression and I didn't read the homework question correctly. ChatGPT told me the y data was continuous therefore a logistic regression would not work. Then I realized either I was doing something wrong or the question was worded incorrectly. In this case it was my error!\n",
    "\n",
    "4. BIGGEST CHALLENGE: I didn't read the question correctly!! I kept trying to use logistic regression on the concrete sample and getting stuck. I've no learned to read the homework more thoroughly rather than continue bashing through an error message. "
   ]
  },
  {
   "cell_type": "markdown",
   "id": "dfdb0880",
   "metadata": {},
   "source": [
    "*DESCRIBE YOUR PROCESS HERE*"
   ]
  },
  {
   "cell_type": "markdown",
   "id": "2ed02275-ebc8-4026-a141-046d97890a6c",
   "metadata": {},
   "source": []
  },
  {
   "cell_type": "markdown",
   "id": "e72ac3eb",
   "metadata": {},
   "source": [
    "## Part 3: Observations/Interpretation (3 marks)\n",
    "\n",
    "Describe any pattern you see in the results. Relate your findings to what we discussed during lectures. Include data to justify your findings.\n",
    "\n",
    "\n",
    "*ADD YOUR FINDINGS HERE*"
   ]
  },
  {
   "cell_type": "markdown",
   "id": "ebcd3497-f36c-41bb-9ebb-f602f4da60d0",
   "metadata": {},
   "source": [
    "1. In this case a linear regression was not sufficient to appropriately model the data. We can see this by our results of getting a ~60% r2 score. Since material strength for concrete samples will follow first principles of material science, we should be able to model the data more accurately.\n",
    "\n",
    "Some of the material properties have highly non-linear relationships with the strength vector. As shown below by plotting strength vs age. This clearly does not show a linear relationship. Therefore using a linear regression will not accurately model this data. "
   ]
  },
  {
   "cell_type": "code",
   "execution_count": 161,
   "id": "d8dae908-0c53-4734-b4e7-f97128390ddf",
   "metadata": {},
   "outputs": [
    {
     "data": {
      "image/png": "[encoded data removed]",
      "text/plain": [
       "<Figure size 800x550 with 1 Axes>"
      ]
     },
     "metadata": {},
     "output_type": "display_data"
    }
   ],
   "source": [
    "import matplotlib.pyplot as plt\n",
    "\n",
    "fig, ax = plt.subplots()\n",
    "ax.scatter(Xc.iloc[:,7], yc)\n",
    "ax.scatter(Xc_test.iloc[:,7], linear_predictionsc)\n",
    "\n",
    "\n",
    "ax.set_xlabel(r'Age', fontsize=15)\n",
    "ax.set_ylabel(r'Strength', fontsize=15)\n",
    "ax.set_title('Material Strength vs Age of material')\n",
    "ax.grid(True)\n",
    "fig.tight_layout()\n",
    "\n",
    "plt.show()"
   ]
  },
  {
   "cell_type": "markdown",
   "id": "40b84eed",
   "metadata": {},
   "source": [
    "## Part 4: Reflection (2 marks)\n",
    "Include a sentence or two about:\n",
    "- what you liked or disliked,\n",
    "- found interesting, confusing, challangeing, motivating\n",
    "while working on this assignment.\n",
    "\n",
    "\n",
    "*ADD YOUR THOUGHTS HERE*"
   ]
  },
  {
   "cell_type": "code",
   "execution_count": null,
   "id": "528a6e9d-480f-4f65-8bf7-92894ed427bc",
   "metadata": {},
   "outputs": [],
   "source": []
  },
  {
   "cell_type": "markdown",
   "id": "db951b3a",
   "metadata": {},
   "source": [
    "## Part 5: Bonus Question (4 marks)\n",
    "\n",
    "Repeat Part 2 with Ridge and Lasso regression to see if you can improve the accuracy results. Which method and what value of alpha gave you the best R^2 score? Is this score \"good enough\"? Explain why or why not.\n",
    "\n",
    "**Remember**: Only test values of alpha from 0.001 to 100 along the logorithmic scale."
   ]
  },
  {
   "cell_type": "code",
   "execution_count": 65,
   "id": "47623d44",
   "metadata": {},
   "outputs": [],
   "source": [
    "# TO DO: ADD YOUR CODE HERE"
   ]
  },
  {
   "cell_type": "markdown",
   "id": "1b606236",
   "metadata": {},
   "source": [
    "*ANSWER HERE*"
   ]
  },
  {
   "cell_type": "code",
   "execution_count": 66,
   "id": "db1c827b-7b49-44f9-ab69-3a246d47e31e",
   "metadata": {},
   "outputs": [
    {
     "ename": "SyntaxError",
     "evalue": "invalid character '“' (U+201C) (4010618075.py, line 2)",
     "output_type": "error",
     "traceback": [
      "\u001b[0;36m  Cell \u001b[0;32mIn[66], line 2\u001b[0;36m\u001b[0m\n\u001b[0;31m    1. Cranor, Lorrie Faith, and Brian A. LaMacchia. “Spam!.” Communications of the ACM 41.8 (1998): 74-83.\u001b[0m\n\u001b[0m                                                     ^\u001b[0m\n\u001b[0;31mSyntaxError\u001b[0m\u001b[0;31m:\u001b[0m invalid character '“' (U+201C)\n"
     ]
    }
   ],
   "source": [
    "Citations\n",
    "1. Cranor, Lorrie Faith, and Brian A. LaMacchia. “Spam!.” Communications of the ACM 41.8 (1998): 74-83.\n",
    "2. Yeh, I-C. “Modeling of strength of high-performance concrete using artificial neural networks.” Cement and Concrete research 28.12 (1998): 1797-1808.\n",
    "3. Dr. Dawson - Lecture slides\n",
    "4. https://scikit-learn.org/stable/\n",
    "5. https://chat.openai.com"
   ]
  }
 ],
 "metadata": {
  "kernelspec": {
   "display_name": "Python 3 (ipykernel)",
   "language": "python",
   "name": "python3"
  },
  "language_info": {
   "codemirror_mode": {
    "name": "ipython",
    "version": 3
   },
   "file_extension": ".py",
   "mimetype": "text/x-python",
   "name": "python",
   "nbconvert_exporter": "python",
   "pygments_lexer": "ipython3",
   "version": "3.11.5"
  },
  "vscode": {
   "interpreter": {
    "hash": "aee8b7b246df8f9039afb4144a1f6fd8d2ca17a180786b69acc140d282b71a49"
   }
  }
 },
 "nbformat": 4,
 "nbformat_minor": 5
}
